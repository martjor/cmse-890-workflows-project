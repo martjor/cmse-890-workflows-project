{
 "cells": [
  {
   "cell_type": "code",
   "execution_count": null,
   "id": "74cf34a7",
   "metadata": {},
   "outputs": [],
   "source": [
    "# Import modules\n",
    "import matplotlib.pyplot as plt\n",
    "import numpy as np\n",
    "\n",
    "# Load Data\n",
    "trajectories = {\n",
    "    'giant': np.load(snakemake.input[0])\n",
    "}\n",
    "\n",
    "for file in snakemake.input[1:]:\n",
    "    miniature = file.split('/')[-2]\n",
    "    trajectories[miniature] = np.load(file)"
   ]
  },
  {
   "cell_type": "code",
   "execution_count": null,
   "id": "b9b3737c-2706-4948-a4b6-f282a9222d9d",
   "metadata": {},
   "outputs": [],
   "source": [
    "# Plot Sir \n",
    "width = 0.5\n",
    "\n",
    "fig, ax = plt.subplots(figsize=(8,4),dpi=300)\n",
    "\n",
    "count = 0\n",
    "for graph, data in trajectories.items():\n",
    "    mean_trajectories = data.mean(axis=0)\n",
    "\n",
    "    # Conditional formatting\n",
    "    if graph != 'giant':\n",
    "        # Calculate alpha for curve\n",
    "        alpha = 0.25 + count/len(snakemake.input[1:]) * 0.75\n",
    "        count += 1\n",
    "\n",
    "        # Construct visualization arguments\n",
    "        kwargs = {\n",
    "            'linestyle': '--',\n",
    "            'alpha': alpha\n",
    "        }\n",
    "\n",
    "    else:\n",
    "        kwargs={}\n",
    "    \n",
    "\n",
    "    for color, curve in zip(['blue','red','green'],mean_trajectories):\n",
    "        ax.plot(curve,color=color,\n",
    "                linewidth=width,\n",
    "                **kwargs)\n",
    "\n",
    "ax.set_ylabel(\"Normalized Population\")\n",
    "ax.set_xlabel(\"Iteration\")\n",
    "ax.set_title(f\"SIR on {snakemake.wildcards.graph} - original vs. {snakemake.wildcards.method}\")\n",
    "ax.legend([\"S\",\"I\",\"R\"])\n",
    "\n",
    "plt.savefig(snakemake.output[0],bbox_inches='tight')\n",
    "\n"
   ]
  }
 ],
 "metadata": {
  "kernelspec": {
   "display_name": "Python 3 (ipykernel)",
   "language": "python",
   "name": "python3"
  },
  "language_info": {
   "codemirror_mode": {
    "name": "ipython",
    "version": 3
   },
   "file_extension": ".py",
   "mimetype": "text/x-python",
   "name": "python",
   "nbconvert_exporter": "python",
   "pygments_lexer": "ipython3",
   "version": "3.12.8"
  }
 },
 "nbformat": 4,
 "nbformat_minor": 5
}
