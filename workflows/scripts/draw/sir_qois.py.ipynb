{
 "cells": [
  {
   "cell_type": "code",
   "execution_count": null,
   "id": "7889f918",
   "metadata": {},
   "outputs": [],
   "source": [
    "# Import modules\n",
    "import matplotlib.pyplot as plt\n",
    "import numpy as np\n",
    "import pandas as pd\n",
    "from scripts.utils.io import load_dict\n",
    "\n",
    "# Import miniaturization\n",
    "alpha = snakemake.params.alpha\n",
    "\n",
    "# Import data\n",
    "df = []\n",
    "keys = []\n",
    "for file in snakemake.input:\n",
    "    keys.append(file.split('/')[-2])\n",
    "    dictionary = load_dict(file)\n",
    "    df.append(pd.DataFrame(dictionary).T.stack())\n",
    "\n",
    "df = pd.concat(df,axis=1,keys=keys).T\n",
    "df\n"
   ]
  },
  {
   "cell_type": "code",
   "execution_count": null,
   "id": "694dedb0-e4e0-42cc-9637-7c6ca9d7e3ae",
   "metadata": {},
   "outputs": [],
   "source": [
    "fig, axes = plt.subplots(3,1,figsize=(6,9), dpi=300)\n",
    "\n",
    "metrics = df.columns.get_level_values(0).unique()\n",
    "for i, metric in enumerate(metrics):\n",
    "    df_metric = df.loc[df.index != 'giant', metric]\n",
    "\n",
    "    # Plot original\n",
    "    axes[i].axhline(df.loc['giant',metric]['mean'],\n",
    "                    linestyle=':',\n",
    "                    color='r'\n",
    "    )\n",
    "\n",
    "    # Plot Miniaturization\n",
    "    axes[i].errorbar(alpha.values(),\n",
    "                     df_metric['mean'],\n",
    "                     yerr = df_metric['std'],\n",
    "                     capsize=5.0,\n",
    "                     linestyle='--',\n",
    "                     marker='o'\n",
    "    )\n",
    "    axes[i].set_ylabel(metric.capitalize())\n",
    "\n",
    "    if i != 2:\n",
    "        axes[i].set_xticks([])\n",
    "    else:\n",
    "        axes[i].set_xlabel('Reduction')\n",
    "\n",
    "axes[0].legend([\"Giant\",\"Miniatures\"])\n",
    "plt.savefig(snakemake.output[0])"
   ]
  }
 ],
 "metadata": {
  "kernelspec": {
   "display_name": "Python 3 (ipykernel)",
   "language": "python",
   "name": "python3"
  },
  "language_info": {
   "codemirror_mode": {
    "name": "ipython",
    "version": 3
   },
   "file_extension": ".py",
   "mimetype": "text/x-python",
   "name": "python",
   "nbconvert_exporter": "python",
   "pygments_lexer": "ipython3",
   "version": "3.12.8"
  }
 },
 "nbformat": 4,
 "nbformat_minor": 5
}
