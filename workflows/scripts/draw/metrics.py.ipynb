{
 "cells": [
  {
   "cell_type": "code",
   "execution_count": null,
   "id": "10aaff74",
   "metadata": {},
   "outputs": [],
   "source": [
    "# Import modules\n",
    "import matplotlib.pyplot as plt \n",
    "import pandas as pd\n",
    "import yaml\n",
    "\n",
    "def read_dict(file):\n",
    "    with open(file,'r') as f:\n",
    "        return yaml.safe_load(f)\n",
    "\n",
    "# Import data\n",
    "alpha = snakemake.params.alpha\n",
    "\n",
    "metrics = []\n",
    "index = []\n",
    "for file in snakemake.input:\n",
    "    metrics.append(read_dict(file))\n",
    "    index.append(file.split('/')[-2])\n",
    "\n",
    "metrics = pd.DataFrame(metrics,index=index)\n",
    "metrics['dd_2/1'] = metrics['dd_m2'] / metrics['dd_m1']\n",
    "\n"
   ]
  },
  {
   "cell_type": "code",
   "execution_count": null,
   "id": "22d5b70f-15ab-49d8-bd5a-0db704d6582f",
   "metadata": {},
   "outputs": [],
   "source": [
    "# Plot reduction metrics\n",
    "fig, axes = plt.subplots(2,1,figsize=(9,6),dpi=300)\n",
    "\n",
    "def fraction(metric):\n",
    "    '''Calculates removed fraction for some metric\n",
    "    '''\n",
    "    return (metrics[metric].loc['giant'] - metrics[metric].loc[metrics.index != 'giant']) / metrics[metric].loc['giant']\n",
    "\n",
    "axes[0].plot(alpha.values(),\n",
    "             fraction('n_nodes'),\n",
    "             '--o'\n",
    ")\n",
    "axes[0].set_ylabel(\"Fraction of nodes removed\")\n",
    "axes[0].set_xticks([])\n",
    "\n",
    "axes[1].plot(alpha.values(),\n",
    "             fraction('n_edges'),\n",
    "             '--o'\n",
    ")\n",
    "axes[1].set_ylabel(\"Fraction of edges removed\")\n",
    "axes[1].set_xlabel(\"Reduction\")\n",
    "\n",
    "# Title\n",
    "n_nodes = metrics.loc['giant','n_nodes']\n",
    "n_edges = metrics.loc['giant','n_edges']\n",
    "axes[0].set_title(f\"{snakemake.wildcards.graph.capitalize()} graph: |V|={n_nodes:.2e}, |E|={n_edges:.2e}\")\n",
    "plt.savefig(snakemake.output[0])"
   ]
  },
  {
   "cell_type": "code",
   "execution_count": null,
   "id": "777cf42d-6bc3-41ca-bb3d-715a82392355",
   "metadata": {},
   "outputs": [],
   "source": [
    "def plot_metric(metric,ax):\n",
    "    ax.axhline(metrics.loc['giant',metric],linestyle=':',color='red')\n",
    "    ax.plot(alpha.values(),metrics.loc[metrics.index != 'giant', metric], '--o')\n",
    "\n",
    "fig, axes = plt.subplots(5,1,figsize=(8,15),dpi=300)\n",
    "\n",
    "for i, metric in enumerate(['n_components','connectivity','density','clustering','assortativity']):\n",
    "    plot_metric(metric,axes[i])\n",
    "    \n",
    "    axes[i].set_ylabel(metric.capitalize())\n",
    "\n",
    "    if metric != 'assortativity':\n",
    "        axes[i].set_xticks([])\n",
    "        axes[i].set_ylim([0,1.1])\n",
    "    else:\n",
    "        axes[i].set_ylim([-1.1,1.1])\n",
    "\n",
    "    if i == 0:\n",
    "        axes[i].set_title(f\"Graph metrics\")\n",
    "        axes[i].legend([\"Giant\",\"Miniatures\"])\n",
    "\n",
    "plt.savefig(snakemake.output[1])"
   ]
  },
  {
   "cell_type": "code",
   "execution_count": null,
   "id": "e09c4c72-b407-4d02-a607-94e2d30b3e05",
   "metadata": {},
   "outputs": [],
   "source": [
    "fig, axes = plt.subplots(5,1,figsize=(8,15),dpi=300)\n",
    "\n",
    "names = [\n",
    "    \"eig_1\",\n",
    "    \"eig_2\",\n",
    "    \"dd_m1\",\n",
    "    \"dd_m2\",\n",
    "    \"dd_2/1\"\n",
    "]\n",
    "\n",
    "for i, metric in enumerate(names):\n",
    "    plot_metric(metric,axes[i])\n",
    "    axes[i].set_ylabel(metric.capitalize())\n",
    "\n",
    "    if i == 4:\n",
    "        axes[i].set_xlabel(\"Reduction\")\n",
    "\n",
    "plt.savefig(snakemake.output[2])"
   ]
  }
 ],
 "metadata": {
  "kernelspec": {
   "display_name": "Python 3 (ipykernel)",
   "language": "python",
   "name": "python3"
  },
  "language_info": {
   "codemirror_mode": {
    "name": "ipython",
    "version": 3
   },
   "file_extension": ".py",
   "mimetype": "text/x-python",
   "name": "python",
   "nbconvert_exporter": "python",
   "pygments_lexer": "ipython3",
   "version": "3.12.8"
  }
 },
 "nbformat": 4,
 "nbformat_minor": 5
}
