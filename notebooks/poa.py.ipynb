{
 "cells": [
  {
   "cell_type": "code",
   "execution_count": null,
   "id": "07c1e331",
   "metadata": {},
   "outputs": [],
   "source": [
    "# Import libraries\n",
    "import yaml\n",
    "import matplotlib.pyplot as plt\n",
    "import pandas as pd"
   ]
  },
  {
   "cell_type": "code",
   "execution_count": null,
   "id": "7b4705ff-a278-47db-8b36-9775a34511d3",
   "metadata": {},
   "outputs": [],
   "source": [
    "# Read dicts into a df\n",
    "df = []\n",
    "for file in snakemake.input:\n",
    "    with open(file,'r') as f:\n",
    "        temp = yaml.safe_load(f)\n",
    "        \n",
    "    df.append(temp)\n",
    "\n",
    "df = pd.DataFrame(df)\n",
    "df"
   ]
  },
  {
   "cell_type": "code",
   "execution_count": null,
   "id": "90e280d1-43ad-4016-a99c-d8da25209931",
   "metadata": {},
   "outputs": [],
   "source": [
    "fig, axes = plt.subplots(1,2,dpi=300,figsize=(6,3))\n",
    "\n",
    "axes[0].hist(df['poa'])\n",
    "axes[0].set_title(\"Price of Anarchy\")\n",
    "axes[0].set_ylabel(\"Count\")\n",
    "\n",
    "axes[1].set_title(\"Expected Rewards\")\n",
    "axes[1].hist(df['blue'],alpha=0.5,color=\"Blue\")\n",
    "axes[1].hist(df['red'],alpha=0.5,color=\"Red\")\n",
    "axes[1].hist(df['welfare'],alpha=0.5,color=\"Yellow\")\n",
    "axes[1].legend([\"Blue\",\n",
    "               \"Red\",\n",
    "               \"Welfare\"],fontsize=5.0)\n",
    "\n",
    "plt.savefig(snakemake.output[0],bbox_inches=\"tight\")"
   ]
  }
 ],
 "metadata": {
  "kernelspec": {
   "display_name": "Python 3 (ipykernel)",
   "language": "python",
   "name": "python3"
  },
  "language_info": {
   "codemirror_mode": {
    "name": "ipython",
    "version": 3
   },
   "file_extension": ".py",
   "mimetype": "text/x-python",
   "name": "python",
   "nbconvert_exporter": "python",
   "pygments_lexer": "ipython3",
   "version": "3.11.10"
  }
 },
 "nbformat": 4,
 "nbformat_minor": 5
}
