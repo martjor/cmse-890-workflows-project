{
 "cells": [
  {
   "cell_type": "code",
   "execution_count": null,
   "id": "26d27365",
   "metadata": {},
   "outputs": [],
   "source": [
    "# Import libraries\n",
    "import matplotlib.pyplot as plt \n",
    "import numpy as np \n",
    "import os\n",
    "import pandas as pd\n",
    "import yaml"
   ]
  },
  {
   "cell_type": "code",
   "execution_count": null,
   "id": "d915720e-6102-4126-a7d9-885df8471ce3",
   "metadata": {},
   "outputs": [],
   "source": [
    "# Load payoff matrices\n",
    "red, blue = np.load(snakemake.input.red), np.load(snakemake.input.blue)\n",
    "\n",
    "# Load df\n",
    "eq_df = pd.read_csv(snakemake.input.equilibria_csv,index_col=0).sort_index()\n",
    "eq_arr = np.load(snakemake.input.equilibria_arr)\n"
   ]
  },
  {
   "cell_type": "code",
   "execution_count": null,
   "id": "16e65fc6-2682-4b2a-8807-5405eaa3dc0f",
   "metadata": {},
   "outputs": [],
   "source": [
    "# Calculate welfare\n",
    "X = red + blue\n",
    "\n",
    "# Calculate best outcome\n",
    "X_max = np.max(X)\n",
    "X_max"
   ]
  },
  {
   "cell_type": "code",
   "execution_count": null,
   "id": "bda4705f-05a2-4100-8a91-eee67f477e6c",
   "metadata": {
    "scrolled": true
   },
   "outputs": [],
   "source": [
    "def imshow(X,ax,fontsize=3.0,cmap=\"viridis\"):\n",
    "    '''Labels the image\n",
    "    '''\n",
    "    ax.imshow(X,cmap=cmap)\n",
    "    \n",
    "    for i, row in enumerate(X):\n",
    "        for j, val in enumerate(row):\n",
    "            text = ax.text(j,i,f\"{X[i,j]:0.2f}\",\n",
    "                           fontsize=fontsize,\n",
    "                           ha=\"center\",\n",
    "                           va=\"center\",\n",
    "                           color=\"w\")\n",
    "\n",
    "# Get Stats from worst Nash Equilibrium\n",
    "idx = eq_df['welfare'].idxmin()\n",
    "eq_stats = eq_df.loc[idx]\n",
    "eq = eq_arr[idx]\n",
    "\n",
    "# Calculate poa\n",
    "eq_stats['poa'] = X_max / eq_stats['welfare']\n",
    "\n",
    "with open(snakemake.output[0],'w') as file:\n",
    "    yaml.dump(eq_stats.to_dict(),file,default_flow_style=False)\n",
    "\n",
    "# Plot reward\n",
    "fig = plt.figure(figsize=(3,3),dpi=300)\n",
    "\n",
    "gs = fig.add_gridspec(2,2,\n",
    "                      width_ratios=(4,1),\n",
    "                      height_ratios=(1,4),\n",
    "                      left=0.1, right=0.9,\n",
    "                      bottom=0.1, top=0.9,\n",
    "                      wspace=0.05,\n",
    "                      hspace=0.05)\n",
    "\n",
    "ax = fig.add_subplot(gs[1,0])\n",
    "imshow(X,ax)\n",
    "\n",
    "x = np.arange(eq.shape[1])\n",
    "ax_col_player = fig.add_subplot(gs[0,0], sharex=ax)\n",
    "ax_col_player.bar(x,eq[0])\n",
    "ax_col_player.set_ylim([0,1])\n",
    "ax_col_player.set_xticks([])\n",
    "    \n",
    "ax_row_player = fig.add_subplot(gs[1,1], sharey=ax)\n",
    "ax_row_player.barh(x,eq[1])\n",
    "ax_row_player.set_yticks([])\n",
    "ax_row_player.set_xlim([0,1])\n",
    "\n",
    "\n",
    "plt.savefig(snakemake.output[1],bbox_inches=\"tight\")"
   ]
  },
  {
   "cell_type": "code",
   "execution_count": null,
   "id": "4613a362-1145-4836-ae8c-b6aeb36019d6",
   "metadata": {},
   "outputs": [],
   "source": [
    "fig, axes = plt.subplots(1,2,figsize=(12,6))\n",
    "\n",
    "imshow(red,axes[0],fontsize=6,cmap=\"Blues\")\n",
    "imshow(blue,axes[1],fontsize=6,cmap=\"Reds\")\n",
    "\n",
    "plt.savefig(snakemake.output[2])"
   ]
  }
 ],
 "metadata": {
  "kernelspec": {
   "display_name": "Python 3 (ipykernel)",
   "language": "python",
   "name": "python3"
  },
  "language_info": {
   "codemirror_mode": {
    "name": "ipython",
    "version": 3
   },
   "file_extension": ".py",
   "mimetype": "text/x-python",
   "name": "python",
   "nbconvert_exporter": "python",
   "pygments_lexer": "ipython3",
   "version": "3.11.10"
  }
 },
 "nbformat": 4,
 "nbformat_minor": 5
}
