{
 "cells": [
  {
   "cell_type": "code",
   "execution_count": null,
   "id": "06b80126",
   "metadata": {},
   "outputs": [],
   "source": [
    "# Import libraries\n",
    "import networkx as nx\n",
    "import matplotlib.pyplot as plt"
   ]
  },
  {
   "cell_type": "code",
   "execution_count": null,
   "id": "a90ee23f-c88e-4a01-99a7-0efa085aea05",
   "metadata": {},
   "outputs": [],
   "source": [
    "# Load graphs\n",
    "graphs = []\n",
    "\n",
    "for file in snakemake.input:\n",
    "    graphs.append(nx.read_gexf(file))"
   ]
  },
  {
   "cell_type": "code",
   "execution_count": null,
   "id": "e85a8955-f9aa-46d2-9f9e-7e5d87f9cac8",
   "metadata": {},
   "outputs": [],
   "source": [
    "# Calculate force atlas layout for graph\n",
    "pos = nx.forceatlas2_layout(graphs[0])\n",
    "\n",
    "def draw(graph,ax):\n",
    "    colors = list(nx.get_node_attributes(graph,name=\"color\").values())\n",
    "    \n",
    "    nx.draw_networkx_nodes(graph,\n",
    "                           pos,\n",
    "                           node_size=10.0,\n",
    "                           node_color=colors,\n",
    "                           ax=ax)\n",
    "    \n",
    "    nx.draw_networkx_edges(graph, \n",
    "                           pos,\n",
    "                           edge_color=\"green\",\n",
    "                           alpha=0.5,\n",
    "                           ax=ax)\n",
    "    ax.set_yticks([])\n",
    "    ax.set_xticks([])"
   ]
  },
  {
   "cell_type": "code",
   "execution_count": null,
   "id": "a39deda0-b353-42c7-b47d-2f32880b93a4",
   "metadata": {},
   "outputs": [],
   "source": [
    "fig, axes = plt.subplots(10,10,figsize=(20,20),dpi=300)\n",
    "\n",
    "for idx, graph in enumerate(graphs):\n",
    "    i = idx // 10 \n",
    "    j = idx % 10\n",
    "    \n",
    "    draw(graph,axes[i,j])\n",
    "\n",
    "    if j == 0:\n",
    "        axes[i,j].set_ylabel(f\"{i}\")\n",
    "\n",
    "    if i == 9:\n",
    "        axes[i,j].set_xlabel(f\"{j}\")\n",
    "\n",
    "plt.savefig(snakemake.output[0],bbox_inches='tight')"
   ]
  }
 ],
 "metadata": {
  "kernelspec": {
   "display_name": "Python 3 (ipykernel)",
   "language": "python",
   "name": "python3"
  },
  "language_info": {
   "codemirror_mode": {
    "name": "ipython",
    "version": 3
   },
   "file_extension": ".py",
   "mimetype": "text/x-python",
   "name": "python",
   "nbconvert_exporter": "python",
   "pygments_lexer": "ipython3",
   "version": "3.11.10"
  }
 },
 "nbformat": 4,
 "nbformat_minor": 5
}
