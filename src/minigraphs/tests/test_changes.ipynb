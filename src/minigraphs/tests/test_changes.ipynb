{
 "cells": [
  {
   "cell_type": "code",
   "execution_count": 32,
   "metadata": {},
   "outputs": [
    {
     "data": {
      "text/plain": [
       "<module 'minigraphs.miniaturize' from '/mnt/ufs18/home-245/martjor/repos/dev_pt/src/minigraphs/miniaturize.py'>"
      ]
     },
     "execution_count": 32,
     "metadata": {},
     "output_type": "execute_result"
    }
   ],
   "source": [
    "import numpy as np\n",
    "import networkx as nx \n",
    "from importlib import reload\n",
    "from minigraphs import miniaturize as mini\n",
    "\n",
    "reload(mini)"
   ]
  },
  {
   "cell_type": "code",
   "execution_count": 33,
   "metadata": {},
   "outputs": [
    {
     "data": {
      "text/plain": [
       "EdgeView([(0, 4), (0, 5), (2, 3), (2, 4), (2, 5), (2, 6), (5, 6), (6, 8)])"
      ]
     },
     "execution_count": 33,
     "metadata": {},
     "output_type": "execute_result"
    }
   ],
   "source": [
    "G = nx.erdos_renyi_graph(10,0.2)\n",
    "G.edges"
   ]
  },
  {
   "cell_type": "code",
   "execution_count": 34,
   "metadata": {},
   "outputs": [
    {
     "name": "stdout",
     "output_type": "stream",
     "text": [
      "(0, 1)\n",
      "True\n",
      "True\n"
     ]
    }
   ],
   "source": [
    "edge = list(nx.non_edges(G))[0]\n",
    "print(edge)\n",
    "\n",
    "change_add = mini.Add(edge)\n",
    "change_add.do(G)\n",
    "print(edge in G.edges)\n",
    "\n",
    "change_add.undo(G)\n",
    "print(edge not in G.edges)"
   ]
  },
  {
   "cell_type": "code",
   "execution_count": 35,
   "metadata": {},
   "outputs": [
    {
     "name": "stdout",
     "output_type": "stream",
     "text": [
      "(0, 4)\n",
      "True\n",
      "True\n"
     ]
    }
   ],
   "source": [
    "edge = list(nx.edges(G))[0]\n",
    "print(edge)\n",
    "\n",
    "change_remove = mini.Remove(edge)\n",
    "change_remove.do(G)\n",
    "print(edge not in G.edges)\n",
    "\n",
    "change_remove.undo(G)\n",
    "print(edge in G.edges)"
   ]
  },
  {
   "cell_type": "code",
   "execution_count": 38,
   "metadata": {},
   "outputs": [
    {
     "name": "stdout",
     "output_type": "stream",
     "text": [
      "(0, 4) (0, 2)\n",
      "True\n",
      "True\n"
     ]
    }
   ],
   "source": [
    "old_edge = list(nx.edges(G))[0]\n",
    "new_edge = list(nx.non_edges(G))[0]\n",
    "print(old_edge,new_edge)\n",
    "\n",
    "change_switch = mini.Switch((old_edge,new_edge))\n",
    "change_switch.do(G)\n",
    "\n",
    "print((old_edge not in G.edges) and (new_edge in G.edges))\n",
    "\n",
    "change_switch.undo(G)\n",
    "print((old_edge in G.edges) and (new_edge not in G.edges))"
   ]
  }
 ],
 "metadata": {
  "language_info": {
   "name": "python"
  }
 },
 "nbformat": 4,
 "nbformat_minor": 2
}
