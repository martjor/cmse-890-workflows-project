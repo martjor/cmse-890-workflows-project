{
 "cells": [
  {
   "cell_type": "code",
   "execution_count": 1,
   "id": "f773c4f1",
   "metadata": {},
   "outputs": [
    {
     "name": "stderr",
     "output_type": "stream",
     "text": [
      "100%|██████████| 5000/5000 [00:11<00:00, 420.27it/s]\n"
     ]
    },
    {
     "data": {
      "text/html": [
       "<div>\n",
       "<style scoped>\n",
       "    .dataframe tbody tr th:only-of-type {\n",
       "        vertical-align: middle;\n",
       "    }\n",
       "\n",
       "    .dataframe tbody tr th {\n",
       "        vertical-align: top;\n",
       "    }\n",
       "\n",
       "    .dataframe thead th {\n",
       "        text-align: right;\n",
       "    }\n",
       "</style>\n",
       "<table border=\"1\" class=\"dataframe\">\n",
       "  <thead>\n",
       "    <tr style=\"text-align: right;\">\n",
       "      <th></th>\n",
       "      <th>beta</th>\n",
       "      <th>energy</th>\n",
       "    </tr>\n",
       "  </thead>\n",
       "  <tbody>\n",
       "    <tr>\n",
       "      <th>0</th>\n",
       "      <td>1.000000</td>\n",
       "      <td>-6.516699</td>\n",
       "    </tr>\n",
       "    <tr>\n",
       "      <th>1</th>\n",
       "      <td>1.002002</td>\n",
       "      <td>-6.515734</td>\n",
       "    </tr>\n",
       "    <tr>\n",
       "      <th>2</th>\n",
       "      <td>1.004008</td>\n",
       "      <td>-7.204654</td>\n",
       "    </tr>\n",
       "    <tr>\n",
       "      <th>3</th>\n",
       "      <td>1.006018</td>\n",
       "      <td>-7.327970</td>\n",
       "    </tr>\n",
       "    <tr>\n",
       "      <th>4</th>\n",
       "      <td>1.008032</td>\n",
       "      <td>-8.096797</td>\n",
       "    </tr>\n",
       "    <tr>\n",
       "      <th>...</th>\n",
       "      <td>...</td>\n",
       "      <td>...</td>\n",
       "    </tr>\n",
       "    <tr>\n",
       "      <th>4995</th>\n",
       "      <td>21807.298798</td>\n",
       "      <td>-35.718666</td>\n",
       "    </tr>\n",
       "    <tr>\n",
       "      <th>4996</th>\n",
       "      <td>21850.957040</td>\n",
       "      <td>-35.718666</td>\n",
       "    </tr>\n",
       "    <tr>\n",
       "      <th>4997</th>\n",
       "      <td>21894.702685</td>\n",
       "      <td>-35.718666</td>\n",
       "    </tr>\n",
       "    <tr>\n",
       "      <th>4998</th>\n",
       "      <td>21938.535909</td>\n",
       "      <td>-35.718666</td>\n",
       "    </tr>\n",
       "    <tr>\n",
       "      <th>4999</th>\n",
       "      <td>21982.456887</td>\n",
       "      <td>-35.718666</td>\n",
       "    </tr>\n",
       "  </tbody>\n",
       "</table>\n",
       "<p>5000 rows × 2 columns</p>\n",
       "</div>"
      ],
      "text/plain": [
       "              beta     energy\n",
       "0         1.000000  -6.516699\n",
       "1         1.002002  -6.515734\n",
       "2         1.004008  -7.204654\n",
       "3         1.006018  -7.327970\n",
       "4         1.008032  -8.096797\n",
       "...            ...        ...\n",
       "4995  21807.298798 -35.718666\n",
       "4996  21850.957040 -35.718666\n",
       "4997  21894.702685 -35.718666\n",
       "4998  21938.535909 -35.718666\n",
       "4999  21982.456887 -35.718666\n",
       "\n",
       "[5000 rows x 2 columns]"
      ]
     },
     "execution_count": 1,
     "metadata": {},
     "output_type": "execute_result"
    }
   ],
   "source": [
    "from minigraphs.mcmc import SimulatedAnnealing\n",
    "from minigraphs.mcmc.chains import SubgraphBoundary\n",
    "from minigraphs.data import load_graph\n",
    "from minigraphs.metrics import graph_spectrum\n",
    "from math import exp \n",
    "\n",
    "hamsterster = load_graph('hamsterster')\n",
    "\n",
    "annealer = SimulatedAnnealing(\n",
    "    SubgraphBoundary(hamsterster, 200, 10),\n",
    "    lambda graph: -graph_spectrum(graph)[0],\n",
    "    lambda step: exp(step / 500),\n",
    "    n_steps=5000,\n",
    "    verbose=True,\n",
    ")\n",
    "\n",
    "annealer.run()\n",
    "annealer.history_"
   ]
  },
  {
   "cell_type": "code",
   "execution_count": 2,
   "id": "5612f9bd",
   "metadata": {},
   "outputs": [
    {
     "data": {
      "text/plain": [
       "<Axes: >"
      ]
     },
     "execution_count": 2,
     "metadata": {},
     "output_type": "execute_result"
    },
    {
     "data": {
      "image/png": "[encoded data removed]",
      "text/plain": [
       "<Figure size 640x480 with 1 Axes>"
      ]
     },
     "metadata": {},
     "output_type": "display_data"
    }
   ],
   "source": [
    "annealer.history_.plot(y='energy')"
   ]
  },
  {
   "cell_type": "code",
   "execution_count": 4,
   "id": "3b9bf218",
   "metadata": {},
   "outputs": [
    {
     "data": {
      "text/plain": [
       "np.float32(-35.718666)"
      ]
     },
     "execution_count": 4,
     "metadata": {},
     "output_type": "execute_result"
    }
   ],
   "source": [
    "annealer.best_energy_"
   ]
  }
 ],
 "metadata": {
  "kernelspec": {
   "display_name": "minigraphs",
   "language": "python",
   "name": "python3"
  },
  "language_info": {
   "codemirror_mode": {
    "name": "ipython",
    "version": 3
   },
   "file_extension": ".py",
   "mimetype": "text/x-python",
   "name": "python",
   "nbconvert_exporter": "python",
   "pygments_lexer": "ipython3",
   "version": "3.12.8"
  }
 },
 "nbformat": 4,
 "nbformat_minor": 5
}
