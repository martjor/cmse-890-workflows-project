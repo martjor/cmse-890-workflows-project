{
 "cells": [
  {
   "cell_type": "code",
   "execution_count": null,
   "metadata": {},
   "outputs": [],
   "source": [
    "from scipy.sparse.linalg import eigs\n",
    "import networkx as nx \n",
    "import numpy as np \n",
    "\n",
    "class CoarseNET:\n",
    "    def __init__(self, n_nodes):\n",
    "        self.n_nodes = n_nodes\n",
    "\n",
    "    def fit(self, graph):\n",
    "        '''Fits the coarsening algorithm to the specifid graph.\n",
    "        '''\n",
    "        self.graph_ = graph.copy()\n",
    "\n",
    "        # Compute eigenvalue and eigenvectors\n",
    "        A = nx.to_scipy_sparse_array(self.graph_, dtype=np.float32)\n",
    "        eval, evecs_r = eigs(A, k=1, which='LM')\n",
    "        _, evecs_l = eigs(A.T, k=1, which='LM')\n",
    "\n",
    "        self.evecs = np.concat(evecs_l[:,0], evecs_r[:,0])\n",
    "        self.eval = eval[0]\n",
    "\n",
    "        # Compute score\n",
    "        \n",
    "        \n"
   ]
  }
 ],
 "metadata": {
  "kernelspec": {
   "display_name": "minigraphs",
   "language": "python",
   "name": "python3"
  },
  "language_info": {
   "name": "python",
   "version": "3.12.8"
  }
 },
 "nbformat": 4,
 "nbformat_minor": 2
}
